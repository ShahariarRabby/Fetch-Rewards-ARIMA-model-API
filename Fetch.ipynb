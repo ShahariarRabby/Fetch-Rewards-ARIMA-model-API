{
 "cells": [
  {
   "cell_type": "code",
   "execution_count": 1,
   "id": "33a3b66f",
   "metadata": {},
   "outputs": [],
   "source": [
    "# install if needed\n",
    "# pip install pandas\n",
    "# pip install statsmodels\n",
    "# pip install matplotlib\n",
    "# pip install -U scikit-learn"
   ]
  },
  {
   "cell_type": "code",
   "execution_count": 1,
   "id": "f0181567",
   "metadata": {
    "ExecuteTime": {
     "end_time": "2023-10-17T18:03:13.480340Z",
     "start_time": "2023-10-17T18:03:10.084552Z"
    }
   },
   "outputs": [],
   "source": [
    "# imports \n",
    "import pandas as pd\n",
    "from sklearn.linear_model import LinearRegression\n",
    "from sklearn.model_selection import train_test_split\n",
    "from sklearn.metrics import mean_squared_error, r2_score\n",
    "from statsmodels.tsa.arima.model import ARIMA\n",
    "import matplotlib.pyplot as plt"
   ]
  },
  {
   "cell_type": "markdown",
   "id": "5e3722ef",
   "metadata": {},
   "source": [
    "### Data Exploration\n"
   ]
  },
  {
   "cell_type": "code",
   "execution_count": 2,
   "id": "c384b947",
   "metadata": {
    "ExecuteTime": {
     "end_time": "2023-10-17T18:03:13.565562Z",
     "start_time": "2023-10-17T18:03:13.484421Z"
    }
   },
   "outputs": [
    {
     "name": "stdout",
     "output_type": "stream",
     "text": [
      "(365, 2)\n",
      "       Receipt_Count\n",
      "count   3.650000e+02\n",
      "mean    8.826566e+06\n",
      "std     7.820089e+05\n",
      "min     7.095414e+06\n",
      "25%     8.142874e+06\n",
      "50%     8.799249e+06\n",
      "75%     9.476970e+06\n",
      "max     1.073886e+07\n"
     ]
    },
    {
     "data": {
      "text/plain": "       # Date  Receipt_Count\n0  2021-01-01        7564766\n1  2021-01-02        7455524\n2  2021-01-03        7095414\n3  2021-01-04        7666163\n4  2021-01-05        7771289",
      "text/html": "<div>\n<style scoped>\n    .dataframe tbody tr th:only-of-type {\n        vertical-align: middle;\n    }\n\n    .dataframe tbody tr th {\n        vertical-align: top;\n    }\n\n    .dataframe thead th {\n        text-align: right;\n    }\n</style>\n<table border=\"1\" class=\"dataframe\">\n  <thead>\n    <tr style=\"text-align: right;\">\n      <th></th>\n      <th># Date</th>\n      <th>Receipt_Count</th>\n    </tr>\n  </thead>\n  <tbody>\n    <tr>\n      <th>0</th>\n      <td>2021-01-01</td>\n      <td>7564766</td>\n    </tr>\n    <tr>\n      <th>1</th>\n      <td>2021-01-02</td>\n      <td>7455524</td>\n    </tr>\n    <tr>\n      <th>2</th>\n      <td>2021-01-03</td>\n      <td>7095414</td>\n    </tr>\n    <tr>\n      <th>3</th>\n      <td>2021-01-04</td>\n      <td>7666163</td>\n    </tr>\n    <tr>\n      <th>4</th>\n      <td>2021-01-05</td>\n      <td>7771289</td>\n    </tr>\n  </tbody>\n</table>\n</div>"
     },
     "execution_count": 2,
     "metadata": {},
     "output_type": "execute_result"
    }
   ],
   "source": [
    "df = pd.read_csv('data_daily.csv')\n",
    "print(df.shape)\n",
    "print(df.describe())\n",
    "df.head()"
   ]
  },
  {
   "cell_type": "markdown",
   "id": "0b7ea053",
   "metadata": {},
   "source": [
    "#### Data Preprocessing\n",
    "To predict monthly totals, I will:\n",
    "\n",
    "    Aggregate the daily data to monthly totals\n",
    "    Add columns for month and year\n",
    "    Split into train/test sets"
   ]
  },
  {
   "cell_type": "code",
   "execution_count": 3,
   "id": "a88dd585",
   "metadata": {
    "ExecuteTime": {
     "end_time": "2023-10-17T18:03:13.571830Z",
     "start_time": "2023-10-17T18:03:13.559628Z"
    }
   },
   "outputs": [],
   "source": [
    "# Reading the data\n",
    "df = pd.read_csv('data_daily.csv')  # Reading the given dataset\n",
    "\n",
    "# Converting the '# Date' column to datetime\n",
    "df['# Date'] = pd.to_datetime(df['# Date'])\n",
    "\n",
    "# Extracting month and year from the date\n",
    "df['Month'] = df['# Date'].dt.month\n",
    "df['Year'] = df['# Date'].dt.year\n",
    "\n",
    "# Grouping by month and year and summing the receipt count\n",
    "df_grouped = df.groupby(['Year', 'Month']).sum().reset_index()\n",
    "\n",
    "# Splitting the data into features and target\n",
    "X = df_grouped[['Year', 'Month']]\n",
    "y = df_grouped['Receipt_Count']\n",
    "\n",
    "# Splitting the data into training and testing sets\n",
    "X_train, X_test, y_train, y_test = train_test_split(X, y, test_size=0.2, random_state=10)\n"
   ]
  },
  {
   "cell_type": "markdown",
   "id": "998bd74f",
   "metadata": {},
   "source": [
    "### Model 1\n",
    "\n",
    "We can use the sklearn library for this task. However, it's important to note that sklearn doesn't have built-in support for time series models like ARIMA. We can, however, use sklearn to implement a simple linear regression model for this problem."
   ]
  },
  {
   "cell_type": "code",
   "execution_count": 5,
   "id": "a0c2a944",
   "metadata": {},
   "outputs": [
    {
     "name": "stdout",
     "output_type": "stream",
     "text": [
      "Mean Squared Error: 33781488282662.406\n",
      "R^2 Score: 0.849287278371998\n"
     ]
    },
    {
     "data": {
      "image/png": "[encoded data removed]",
      "text/plain": [
       "<Figure size 864x432 with 1 Axes>"
      ]
     },
     "metadata": {
      "needs_background": "light"
     },
     "output_type": "display_data"
    }
   ],
   "source": [
    "# Training the linear regression model\n",
    "model = LinearRegression()\n",
    "model.fit(X_train, y_train)\n",
    "\n",
    "# Making predictions\n",
    "y_pred = model.predict(X_test)\n",
    "\n",
    "# Model evaluation\n",
    "mse = mean_squared_error(y_test, y_pred)\n",
    "r2 = r2_score(y_test, y_pred)\n",
    "\n",
    "print(f\"Mean Squared Error: {mse}\")\n",
    "print(f\"R^2 Score: {r2}\")\n",
    "\n",
    "# Visualizing the results\n",
    "plt.figure(figsize=(12, 6))\n",
    "plt.scatter(X_test['Month'], y_test, color='black', label='Actual')\n",
    "plt.plot(X_test['Month'], y_pred, color='blue', linewidth=3, label='Predicted')\n",
    "plt.xlabel('Month')\n",
    "plt.ylabel('Receipt Count')\n",
    "plt.title('Linear Regression Model Performance')\n",
    "plt.legend()\n",
    "plt.show()"
   ]
  },
  {
   "cell_type": "markdown",
   "id": "4f6380d8",
   "metadata": {},
   "source": [
    "### Performence of Model 1"
   ]
  },
  {
   "cell_type": "code",
   "execution_count": 6,
   "id": "00913ee0",
   "metadata": {},
   "outputs": [
    {
     "name": "stdout",
     "output_type": "stream",
     "text": [
      "Month: 1, Predicted Receipt Count: 227109945.67447916\n",
      "Month: 2, Predicted Receipt Count: 234372283.69270834\n",
      "Month: 3, Predicted Receipt Count: 241634621.7109375\n",
      "Month: 4, Predicted Receipt Count: 248896959.72916666\n",
      "Month: 5, Predicted Receipt Count: 256159297.74739584\n",
      "Month: 6, Predicted Receipt Count: 263421635.765625\n",
      "Month: 7, Predicted Receipt Count: 270683973.7838542\n",
      "Month: 8, Predicted Receipt Count: 277946311.8020833\n",
      "Month: 9, Predicted Receipt Count: 285208649.8203125\n",
      "Month: 10, Predicted Receipt Count: 292470987.8385417\n",
      "Month: 11, Predicted Receipt Count: 299733325.8567709\n",
      "Month: 12, Predicted Receipt Count: 306995663.875\n"
     ]
    }
   ],
   "source": [
    "# Making predictions for 2022\n",
    "X_2022 = pd.DataFrame({'Year': [2022]*12, 'Month': range(1, 13)})\n",
    "predictions_2022 = model.predict(X_2022)\n",
    "\n",
    "# Printing the predictions for 2022\n",
    "for month, prediction in zip(range(1, 13), predictions_2022):\n",
    "    print(f\"Month: {month}, Predicted Receipt Count: {prediction}\")\n"
   ]
  },
  {
   "cell_type": "markdown",
   "id": "3f85f3a6",
   "metadata": {},
   "source": [
    "### Model 2\n",
    "\n",
    "To approach this problem, we can use a simple time series forecasting technique such as the autoregressive integrated moving average (ARIMA) model. By theory and my own research I found ARIMA will performe better then the regular regression algoritoms."
   ]
  },
  {
   "cell_type": "code",
   "execution_count": 4,
   "id": "1d1ff74d",
   "metadata": {
    "ExecuteTime": {
     "end_time": "2023-10-17T18:03:19.867854Z",
     "start_time": "2023-10-17T18:03:19.649321Z"
    }
   },
   "outputs": [
    {
     "name": "stdout",
     "output_type": "stream",
     "text": [
      "Mean Squared Error: 4717141869528443.0\n"
     ]
    },
    {
     "data": {
      "text/plain": "<Figure size 864x432 with 1 Axes>",
      "image/png": "[encoded data removed]"
     },
     "metadata": {
      "needs_background": "light"
     },
     "output_type": "display_data"
    }
   ],
   "source": [
    "# Setting the index to the '# Date' column\n",
    "df.set_index('# Date', inplace=True)\n",
    "# Resampling the data on a monthly basis\n",
    "df_monthly = df['Receipt_Count'].resample('M').sum()\n",
    "\n",
    "\n",
    "# Fitting the ARIMA model\n",
    "model = ARIMA(df_monthly, order=(5,1,0))  # You can change the order as needed\n",
    "model_fit = model.fit()\n",
    "\n",
    "# Forecasting for 12 months (2022)\n",
    "forecast = model_fit.forecast(steps=12)\n",
    "\n",
    "# Evaluating the model performance\n",
    "residuals = df_monthly - model_fit.fittedvalues\n",
    "mse = (residuals ** 2).mean()\n",
    "\n",
    "print(f\"Mean Squared Error: {mse}\")\n",
    "\n",
    "# Visualizing the results\n",
    "plt.figure(figsize=(12, 6))\n",
    "plt.plot(df_monthly, label='Actual')\n",
    "plt.plot(model_fit.fittedvalues, color='red', label='Predicted')\n",
    "plt.title('ARIMA Model Forecast vs Actuals')\n",
    "plt.xlabel('Date')\n",
    "plt.ylabel('Receipt Count')\n",
    "plt.legend()\n",
    "plt.show()"
   ]
  },
  {
   "cell_type": "markdown",
   "id": "66ab34cf",
   "metadata": {},
   "source": [
    "### Performence of Model 2"
   ]
  },
  {
   "cell_type": "code",
   "execution_count": 5,
   "id": "d7a8e1f1",
   "metadata": {
    "ExecuteTime": {
     "end_time": "2023-10-17T18:03:23.019147Z",
     "start_time": "2023-10-17T18:03:23.014086Z"
    }
   },
   "outputs": [
    {
     "name": "stdout",
     "output_type": "stream",
     "text": [
      "Month: 1, Predicted Receipt Count: 309387703.75461006\n",
      "Month: 2, Predicted Receipt Count: 311780471.7377218\n",
      "Month: 3, Predicted Receipt Count: 312011822.34989434\n",
      "Month: 4, Predicted Receipt Count: 312926199.8780609\n",
      "Month: 5, Predicted Receipt Count: 312925776.8128488\n",
      "Month: 6, Predicted Receipt Count: 313157516.04482645\n",
      "Month: 7, Predicted Receipt Count: 313180705.62704366\n",
      "Month: 8, Predicted Receipt Count: 313250101.5796836\n",
      "Month: 9, Predicted Receipt Count: 313254691.90875083\n",
      "Month: 10, Predicted Receipt Count: 313274511.3800297\n",
      "Month: 11, Predicted Receipt Count: 313276860.25182647\n",
      "Month: 12, Predicted Receipt Count: 313282500.17062896\n"
     ]
    }
   ],
   "source": [
    "# Forecasting for 12 months (2022)\n",
    "forecast = model_fit.forecast(steps=12)\n",
    "\n",
    "# Printing the forecast for 2022 with respective months\n",
    "for month, prediction in zip(range(1, 13), forecast):\n",
    "    print(f\"Month: {month}, Predicted Receipt Count: {prediction}\")"
   ]
  },
  {
   "cell_type": "markdown",
   "id": "6e165e53",
   "metadata": {},
   "source": [
    "Shahariar Rabby\n",
    "\n",
    "https://rabby.dev"
   ]
  },
  {
   "cell_type": "code",
   "execution_count": 6,
   "outputs": [
    {
     "data": {
      "text/plain": "['arima_model3.pkl']"
     },
     "execution_count": 6,
     "metadata": {},
     "output_type": "execute_result"
    }
   ],
   "source": [
    "import joblib\n",
    "joblib.dump(model_fit, 'arima_model3.pkl')"
   ],
   "metadata": {
    "collapsed": false,
    "ExecuteTime": {
     "end_time": "2023-10-17T18:03:45.023167Z",
     "start_time": "2023-10-17T18:03:44.999853Z"
    }
   },
   "id": "33ca09dc9ea6ba95"
  },
  {
   "cell_type": "code",
   "execution_count": null,
   "outputs": [],
   "source": [],
   "metadata": {
    "collapsed": false
   },
   "id": "7f472c358df06e40"
  }
 ],
 "metadata": {
  "anaconda-cloud": {},
  "kernelspec": {
   "name": "python3",
   "language": "python",
   "display_name": "Python 3 (ipykernel)"
  },
  "language_info": {
   "codemirror_mode": {
    "name": "ipython",
    "version": 3
   },
   "file_extension": ".py",
   "mimetype": "text/x-python",
   "name": "python",
   "nbconvert_exporter": "python",
   "pygments_lexer": "ipython3",
   "version": "3.9.12"
  }
 },
 "nbformat": 4,
 "nbformat_minor": 5
}
